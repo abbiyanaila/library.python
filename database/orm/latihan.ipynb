{
 "cells": [
  {
   "cell_type": "code",
   "execution_count": 1,
   "metadata": {},
   "outputs": [],
   "source": [
    "import sqlalchemy\n",
    "from sqlalchemy import create_engine\n",
    "from sqlalchemy import Column, Integer, String\n",
    "from sqlalchemy.ext.declarative import declarative_base\n",
    "from sqlalchemy.orm import sessionmaker"
   ]
  },
  {
   "cell_type": "code",
   "execution_count": 3,
   "metadata": {},
   "outputs": [],
   "source": [
    "engine = create_engine('sqlite:///latihan.db', echo=True)\n",
    "Base = declarative_base()"
   ]
  },
  {
   "cell_type": "code",
   "execution_count": 4,
   "metadata": {},
   "outputs": [],
   "source": [
    "class Building(Base):\n",
    "    __tablename__ = 'building'\n",
    "    \n",
    "    id = Column(Integer, primary_key=True)\n",
    "    name = Column(String)\n",
    "    description = Column(String)\n",
    "    \n",
    "    \n",
    "    def __repr__(self):\n",
    "        return f'<Building(name={self.name}, description={self.description})>'"
   ]
  },
  {
   "cell_type": "code",
   "execution_count": 10,
   "metadata": {},
   "outputs": [
    {
     "name": "stdout",
     "output_type": "stream",
     "text": [
      "2019-01-28 20:41:46,737 INFO sqlalchemy.engine.base.Engine PRAGMA table_info(\"building\")\n",
      "2019-01-28 20:41:46,739 INFO sqlalchemy.engine.base.Engine ()\n",
      "2019-01-28 20:41:46,742 INFO sqlalchemy.engine.base.Engine \n",
      "CREATE TABLE building (\n",
      "\tid INTEGER NOT NULL, \n",
      "\tname VARCHAR, \n",
      "\tdescription VARCHAR, \n",
      "\tPRIMARY KEY (id)\n",
      ")\n",
      "\n",
      "\n",
      "2019-01-28 20:41:46,743 INFO sqlalchemy.engine.base.Engine ()\n",
      "2019-01-28 20:41:46,957 INFO sqlalchemy.engine.base.Engine COMMIT\n"
     ]
    }
   ],
   "source": [
    "# Create database with all of its tables\n",
    "# Base.metadata.create_all(engine)"
   ]
  },
  {
   "cell_type": "code",
   "execution_count": 13,
   "metadata": {},
   "outputs": [],
   "source": [
    "Session = sessionmaker(bind=engine)\n",
    "session = Session()"
   ]
  },
  {
   "cell_type": "code",
   "execution_count": 14,
   "metadata": {},
   "outputs": [
    {
     "name": "stdout",
     "output_type": "stream",
     "text": [
      "2019-01-28 20:42:02,960 INFO sqlalchemy.engine.base.Engine BEGIN (implicit)\n",
      "2019-01-28 20:42:02,961 INFO sqlalchemy.engine.base.Engine INSERT INTO building (name, description) VALUES (?, ?)\n",
      "2019-01-28 20:42:02,963 INFO sqlalchemy.engine.base.Engine ('ITEC', 'Bangunan tempat kursus')\n",
      "2019-01-28 20:42:02,965 INFO sqlalchemy.engine.base.Engine COMMIT\n"
     ]
    }
   ],
   "source": [
    "b = Building()\n",
    "b.name = 'ITEC'\n",
    "b.description = 'Bangunan tempat kursus'\n",
    "session.add(b)\n",
    "session.commit()"
   ]
  },
  {
   "cell_type": "code",
   "execution_count": 15,
   "metadata": {},
   "outputs": [
    {
     "name": "stdout",
     "output_type": "stream",
     "text": [
      "2019-01-28 20:42:03,714 INFO sqlalchemy.engine.base.Engine BEGIN (implicit)\n",
      "2019-01-28 20:42:03,716 INFO sqlalchemy.engine.base.Engine SELECT building.id AS building_id, building.name AS building_name, building.description AS building_description \n",
      "FROM building\n",
      "2019-01-28 20:42:03,717 INFO sqlalchemy.engine.base.Engine ()\n",
      "[<Building(name=ITEC, description=Bangunan tempat kursus)>, <Building(name=ITEC, description=Bangunan tempat kursus)>]\n"
     ]
    }
   ],
   "source": [
    "#access all data from Building\n",
    "get_all = session.query(Building).all()\n",
    "print(get_all)"
   ]
  },
  {
   "cell_type": "code",
   "execution_count": null,
   "metadata": {},
   "outputs": [],
   "source": []
  }
 ],
 "metadata": {
  "kernelspec": {
   "display_name": "Python 3",
   "language": "python",
   "name": "python3"
  },
  "language_info": {
   "codemirror_mode": {
    "name": "ipython",
    "version": 3
   },
   "file_extension": ".py",
   "mimetype": "text/x-python",
   "name": "python",
   "nbconvert_exporter": "python",
   "pygments_lexer": "ipython3",
   "version": "3.6.8"
  }
 },
 "nbformat": 4,
 "nbformat_minor": 2
}
