{
 "cells": [
  {
   "cell_type": "code",
   "execution_count": 3,
   "metadata": {},
   "outputs": [],
   "source": [
    "import sqlalchemy\n",
    "from sqlalchemy import create_engine\n",
    "from sqlalchemy import Column, Integer, String, Float\n",
    "from sqlalchemy.ext.declarative import declarative_base\n",
    "from sqlalchemy.orm import sessionmaker\n",
    "\n",
    "from sqlalchemy import ForeignKey\n",
    "from sqlalchemy.orm import relationship"
   ]
  },
  {
   "cell_type": "code",
   "execution_count": 4,
   "metadata": {},
   "outputs": [],
   "source": [
    "engine = create_engine('sqlite:///latihan2.db', echo=True)\n",
    "Base = declarative_base()"
   ]
  },
  {
   "cell_type": "code",
   "execution_count": 5,
   "metadata": {},
   "outputs": [],
   "source": [
    "class Building(Base):\n",
    "    __tablename__ = 'buildings'\n",
    "    \n",
    "    id = Column(Integer, primary_key=True)\n",
    "    name = Column(String)\n",
    "    description = Column(String)\n",
    "    rooms = relationship(\"Room\", back_populates=\"building\")\n",
    "    \n",
    "    def __repr__(self):\n",
    "        return f'<Building(id={self.id}, name={self.name}, description={self.description})>'\n",
    "\n",
    "class Room(Base):\n",
    "    __tablename__ = 'rooms'\n",
    "    \n",
    "    id = Column(Integer, primary_key=True)\n",
    "    name = Column(String)\n",
    "    area = Column(Float)\n",
    "    building_id = Column(Integer, ForeignKey('buildings.id'))\n",
    "    \n",
    "    building = relationship(\"Building\", back_populates=\"rooms\")\n",
    "    \n",
    "    def __repr__(self):\n",
    "        return f'<Room(id={self.id}, name={self.name}, description={self.area})>'"
   ]
  },
  {
   "cell_type": "code",
   "execution_count": 6,
   "metadata": {},
   "outputs": [
    {
     "name": "stdout",
     "output_type": "stream",
     "text": [
      "2019-01-29 21:13:11,189 INFO sqlalchemy.engine.base.Engine SELECT CAST('test plain returns' AS VARCHAR(60)) AS anon_1\n",
      "2019-01-29 21:13:11,190 INFO sqlalchemy.engine.base.Engine ()\n",
      "2019-01-29 21:13:11,192 INFO sqlalchemy.engine.base.Engine SELECT CAST('test unicode returns' AS VARCHAR(60)) AS anon_1\n",
      "2019-01-29 21:13:11,193 INFO sqlalchemy.engine.base.Engine ()\n",
      "2019-01-29 21:13:11,195 INFO sqlalchemy.engine.base.Engine PRAGMA table_info(\"buildings\")\n",
      "2019-01-29 21:13:11,198 INFO sqlalchemy.engine.base.Engine ()\n",
      "2019-01-29 21:13:11,201 INFO sqlalchemy.engine.base.Engine PRAGMA table_info(\"rooms\")\n",
      "2019-01-29 21:13:11,202 INFO sqlalchemy.engine.base.Engine ()\n",
      "2019-01-29 21:13:11,206 INFO sqlalchemy.engine.base.Engine \n",
      "CREATE TABLE buildings (\n",
      "\tid INTEGER NOT NULL, \n",
      "\tname VARCHAR, \n",
      "\tdescription VARCHAR, \n",
      "\tPRIMARY KEY (id)\n",
      ")\n",
      "\n",
      "\n",
      "2019-01-29 21:13:11,207 INFO sqlalchemy.engine.base.Engine ()\n",
      "2019-01-29 21:13:11,559 INFO sqlalchemy.engine.base.Engine COMMIT\n",
      "2019-01-29 21:13:11,560 INFO sqlalchemy.engine.base.Engine \n",
      "CREATE TABLE rooms (\n",
      "\tid INTEGER NOT NULL, \n",
      "\tname VARCHAR, \n",
      "\tarea FLOAT, \n",
      "\tbuilding_id INTEGER, \n",
      "\tPRIMARY KEY (id), \n",
      "\tFOREIGN KEY(building_id) REFERENCES buildings (id)\n",
      ")\n",
      "\n",
      "\n",
      "2019-01-29 21:13:11,561 INFO sqlalchemy.engine.base.Engine ()\n",
      "2019-01-29 21:13:11,782 INFO sqlalchemy.engine.base.Engine COMMIT\n"
     ]
    }
   ],
   "source": [
    "# Create database with all of its tables\n",
    "Base.metadata.create_all(engine)"
   ]
  },
  {
   "cell_type": "code",
   "execution_count": 7,
   "metadata": {},
   "outputs": [],
   "source": [
    "Session = sessionmaker(bind=engine)\n",
    "session = Session()"
   ]
  },
  {
   "cell_type": "code",
   "execution_count": 8,
   "metadata": {},
   "outputs": [
    {
     "name": "stdout",
     "output_type": "stream",
     "text": [
      "2019-01-29 21:13:34,898 INFO sqlalchemy.engine.base.Engine BEGIN (implicit)\n",
      "2019-01-29 21:13:34,900 INFO sqlalchemy.engine.base.Engine INSERT INTO buildings (name, description) VALUES (?, ?)\n",
      "2019-01-29 21:13:34,902 INFO sqlalchemy.engine.base.Engine ('ITEC', None)\n",
      "2019-01-29 21:13:34,904 INFO sqlalchemy.engine.base.Engine COMMIT\n"
     ]
    }
   ],
   "source": [
    "b1 = Building()\n",
    "b1.name = \"ITEC\"\n",
    "\n",
    "session.add(b1)\n",
    "session.commit()"
   ]
  },
  {
   "cell_type": "code",
   "execution_count": 9,
   "metadata": {},
   "outputs": [
    {
     "name": "stdout",
     "output_type": "stream",
     "text": [
      "2019-01-29 21:13:54,530 INFO sqlalchemy.engine.base.Engine BEGIN (implicit)\n",
      "2019-01-29 21:13:54,533 INFO sqlalchemy.engine.base.Engine SELECT buildings.id AS buildings_id, buildings.name AS buildings_name, buildings.description AS buildings_description \n",
      "FROM buildings \n",
      "WHERE buildings.id = ?\n",
      "2019-01-29 21:13:54,535 INFO sqlalchemy.engine.base.Engine (1,)\n",
      "2019-01-29 21:13:54,538 INFO sqlalchemy.engine.base.Engine INSERT INTO rooms (name, area, building_id) VALUES (?, ?, ?)\n",
      "2019-01-29 21:13:54,540 INFO sqlalchemy.engine.base.Engine ('Instagram', 10.0, 1)\n",
      "2019-01-29 21:13:54,546 INFO sqlalchemy.engine.base.Engine COMMIT\n"
     ]
    }
   ],
   "source": [
    "r1 = Room()\n",
    "r1.name = 'Instagram'\n",
    "r1.area = 10.0\n",
    "r1.building = b1\n",
    "\n",
    "session.add(r1)\n",
    "session.commit()"
   ]
  },
  {
   "cell_type": "code",
   "execution_count": 10,
   "metadata": {},
   "outputs": [
    {
     "name": "stdout",
     "output_type": "stream",
     "text": [
      "2019-01-29 21:14:06,342 INFO sqlalchemy.engine.base.Engine BEGIN (implicit)\n",
      "2019-01-29 21:14:06,344 INFO sqlalchemy.engine.base.Engine SELECT buildings.id AS buildings_id, buildings.name AS buildings_name, buildings.description AS buildings_description \n",
      "FROM buildings \n",
      "WHERE buildings.id = ?\n",
      " LIMIT ? OFFSET ?\n",
      "2019-01-29 21:14:06,345 INFO sqlalchemy.engine.base.Engine (1, 1, 0)\n",
      "2019-01-29 21:14:06,349 INFO sqlalchemy.engine.base.Engine INSERT INTO rooms (name, area, building_id) VALUES (?, ?, ?)\n",
      "2019-01-29 21:14:06,351 INFO sqlalchemy.engine.base.Engine ('Google', 12.0, 1)\n",
      "2019-01-29 21:14:06,389 INFO sqlalchemy.engine.base.Engine COMMIT\n"
     ]
    }
   ],
   "source": [
    "b10 = session.query(Building).filter_by(id=1).first()\n",
    "r3 = Room()\n",
    "r3.name = 'Google'\n",
    "r3.area = 12\n",
    "r3.building = b10\n",
    "\n",
    "session.add(r3)\n",
    "session.commit()"
   ]
  },
  {
   "cell_type": "code",
   "execution_count": 11,
   "metadata": {},
   "outputs": [
    {
     "name": "stdout",
     "output_type": "stream",
     "text": [
      "2019-01-29 21:14:17,854 INFO sqlalchemy.engine.base.Engine BEGIN (implicit)\n",
      "2019-01-29 21:14:17,857 INFO sqlalchemy.engine.base.Engine INSERT INTO buildings (name, description) VALUES (?, ?)\n",
      "2019-01-29 21:14:17,858 INFO sqlalchemy.engine.base.Engine ('Epicentrum', None)\n",
      "2019-01-29 21:14:17,862 INFO sqlalchemy.engine.base.Engine INSERT INTO rooms (name, area, building_id) VALUES (?, ?, ?)\n",
      "2019-01-29 21:14:17,864 INFO sqlalchemy.engine.base.Engine ('WinsArchery', 20.0, 2)\n",
      "2019-01-29 21:14:17,867 INFO sqlalchemy.engine.base.Engine COMMIT\n"
     ]
    }
   ],
   "source": [
    "b12 = Building()\n",
    "b12.name = \"Epicentrum\"\n",
    "\n",
    "r4 = Room()\n",
    "r4.name = \"WinsArchery\"\n",
    "r4.area = 20\n",
    "r4.building = b12\n",
    "\n",
    "session.add(b12)\n",
    "session.add(r4)\n",
    "session.commit()"
   ]
  },
  {
   "cell_type": "code",
   "execution_count": null,
   "metadata": {},
   "outputs": [],
   "source": []
  }
 ],
 "metadata": {
  "kernelspec": {
   "display_name": "Python 3",
   "language": "python",
   "name": "python3"
  },
  "language_info": {
   "codemirror_mode": {
    "name": "ipython",
    "version": 3
   },
   "file_extension": ".py",
   "mimetype": "text/x-python",
   "name": "python",
   "nbconvert_exporter": "python",
   "pygments_lexer": "ipython3",
   "version": "3.6.8"
  }
 },
 "nbformat": 4,
 "nbformat_minor": 2
}
